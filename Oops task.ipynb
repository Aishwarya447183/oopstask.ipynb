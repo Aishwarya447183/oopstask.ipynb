{
 "cells": [
  {
   "cell_type": "code",
   "execution_count": 1,
   "id": "f1f97eb6-ba6a-4f9f-9597-b68e0c4d6f1e",
   "metadata": {},
   "outputs": [],
   "source": [
    "##Q1.\n",
    "class car:\n",
    "    \n",
    "     def __init__( self, name, maxspeed, average):\n",
    "            self.__name=name\n",
    "            self.__maxspeed=maxspeed\n",
    "            self.__average=12"
   ]
  },
  {
   "cell_type": "code",
   "execution_count": 2,
   "id": "02dab3be-18db-476d-adb4-75b9ab73a121",
   "metadata": {},
   "outputs": [],
   "source": [
    "obj_car = car ( \"toyota\", 78, 63 )"
   ]
  },
  {
   "cell_type": "code",
   "execution_count": 3,
   "id": "ad067fef-2358-40e2-b971-b622dbadd7a0",
   "metadata": {},
   "outputs": [
    {
     "data": {
      "text/plain": [
       "'toyota'"
      ]
     },
     "execution_count": 3,
     "metadata": {},
     "output_type": "execute_result"
    }
   ],
   "source": [
    "obj_car._car__name "
   ]
  },
  {
   "cell_type": "code",
   "execution_count": 4,
   "id": "42189104-f9df-4b65-b0a4-cd1063be445e",
   "metadata": {},
   "outputs": [
    {
     "data": {
      "text/plain": [
       "78"
      ]
     },
     "execution_count": 4,
     "metadata": {},
     "output_type": "execute_result"
    }
   ],
   "source": [
    "obj_car._car__maxspeed"
   ]
  },
  {
   "cell_type": "code",
   "execution_count": 5,
   "id": "47940637-6bc7-4d51-9322-961723a42b7d",
   "metadata": {},
   "outputs": [
    {
     "data": {
      "text/plain": [
       "12"
      ]
     },
     "execution_count": 5,
     "metadata": {},
     "output_type": "execute_result"
    }
   ],
   "source": [
    "obj_car._car__average"
   ]
  },
  {
   "cell_type": "code",
   "execution_count": 6,
   "id": "c4f5e255-e441-4d3a-b034-74c916a900c0",
   "metadata": {},
   "outputs": [],
   "source": [
    "##Q2.\n",
    "class vehicle:\n",
    "    \n",
    "    def test_vehicle(self):\n",
    "        print(\"seating capacity\")\n",
    "    \n",
    "    "
   ]
  },
  {
   "cell_type": "code",
   "execution_count": 7,
   "id": "9dbf2e87-74d7-4a1b-bd44-d0ae015cb9fb",
   "metadata": {},
   "outputs": [],
   "source": [
    "class child(vehicle):\n",
    "    pass"
   ]
  },
  {
   "cell_type": "code",
   "execution_count": 8,
   "id": "5192b618-c74e-4f3f-84d1-b55a3c18f9df",
   "metadata": {},
   "outputs": [],
   "source": [
    "child_obj=child()"
   ]
  },
  {
   "cell_type": "code",
   "execution_count": 9,
   "id": "391c71b8-a7c3-442f-a41e-46712fa506aa",
   "metadata": {},
   "outputs": [
    {
     "name": "stdout",
     "output_type": "stream",
     "text": [
      "seating capacity\n"
     ]
    }
   ],
   "source": [
    "child_obj.test_vehicle()"
   ]
  },
  {
   "cell_type": "code",
   "execution_count": 10,
   "id": "138bfa5b-1da9-4985-943b-110e3a841e24",
   "metadata": {},
   "outputs": [],
   "source": [
    "##Q3.\n",
    "##multiple inheritance-Multiple inheritance is a feature of some object-oriented computer programming languages in which an object or class can inherit features from more than one parent object or parent class. It is distinct from single inheritance, where an object or class may only inherit from one particular object or class.\n",
    "\n"
   ]
  },
  {
   "cell_type": "code",
   "execution_count": 11,
   "id": "42b29e5b-ff83-4181-834f-5c039538cb4d",
   "metadata": {},
   "outputs": [],
   "source": [
    "class class1:\n",
    "    def test_class1(self):\n",
    "        print(\"this is my class1\")\n",
    "    "
   ]
  },
  {
   "cell_type": "code",
   "execution_count": 12,
   "id": "46c2471d-68d7-4432-9448-29efd557822a",
   "metadata": {},
   "outputs": [],
   "source": [
    "class class2(class1):\n",
    "    def test_class2(self):\n",
    "        print(\"this is my class2\")\n",
    "    "
   ]
  },
  {
   "cell_type": "code",
   "execution_count": 13,
   "id": "2c36ab29-61f5-436f-8841-90e7e5464f7b",
   "metadata": {},
   "outputs": [],
   "source": [
    "class class3(class2):\n",
    "    def test_class3(self):\n",
    "        print(\"this is my class3\")\n",
    "    "
   ]
  },
  {
   "cell_type": "code",
   "execution_count": 14,
   "id": "8e9607e8-b185-46d7-83ba-b2f0908a4132",
   "metadata": {},
   "outputs": [],
   "source": [
    "obj_class3=class3()"
   ]
  },
  {
   "cell_type": "code",
   "execution_count": 15,
   "id": "b39fe0b7-9d64-495e-ac2a-1b71fc45a304",
   "metadata": {},
   "outputs": [
    {
     "name": "stdout",
     "output_type": "stream",
     "text": [
      "this is my class1\n"
     ]
    }
   ],
   "source": [
    "obj_class3.test_class1()"
   ]
  },
  {
   "cell_type": "code",
   "execution_count": 16,
   "id": "5f64a8b0-3d8d-48de-a1a3-cadcc053fa3c",
   "metadata": {},
   "outputs": [
    {
     "name": "stdout",
     "output_type": "stream",
     "text": [
      "this is my class2\n"
     ]
    }
   ],
   "source": [
    "obj_class3.test_class2()"
   ]
  },
  {
   "cell_type": "code",
   "execution_count": 19,
   "id": "9ce0bd42-2f78-44b9-8813-9971b9318479",
   "metadata": {},
   "outputs": [
    {
     "name": "stdout",
     "output_type": "stream",
     "text": [
      "this is my class3\n"
     ]
    }
   ],
   "source": [
    "obj_class3.test_class3()"
   ]
  },
  {
   "cell_type": "code",
   "execution_count": 24,
   "id": "3f59ffec-b17f-4d47-a6ea-22903256a9c4",
   "metadata": {},
   "outputs": [],
   "source": [
    "#Q4.##Getter: A method that allows you to access an attribute in a given class. Setter: A method that allows you to set or mutate the value of an attribute in a class."
   ]
  },
  {
   "cell_type": "code",
   "execution_count": 25,
   "id": "7aab25e3-7128-47b7-a7c7-2597203a89a0",
   "metadata": {},
   "outputs": [],
   "source": [
    "class Student:\n",
    "    \n",
    "    def setName(self,n):\n",
    "        self.__name = n\n",
    "    def getname(self):\n",
    "        return self.__name\n",
    "    \n",
    "    def setMarks(self,m):\n",
    "        self.__marks = m\n",
    "    def getMarks(self):\n",
    "        return self.__marks\n",
    "    \n",
    "    def display(self):\n",
    "        print(\"Name\",self.__name)\n",
    "        print(\"Marks\",self.__marks)\n",
    "        "
   ]
  },
  {
   "cell_type": "code",
   "execution_count": null,
   "id": "ea658612-1541-4c7f-8730-484137b3b394",
   "metadata": {},
   "outputs": [],
   "source": []
  }
 ],
 "metadata": {
  "kernelspec": {
   "display_name": "Python 3 (ipykernel)",
   "language": "python",
   "name": "python3"
  },
  "language_info": {
   "codemirror_mode": {
    "name": "ipython",
    "version": 3
   },
   "file_extension": ".py",
   "mimetype": "text/x-python",
   "name": "python",
   "nbconvert_exporter": "python",
   "pygments_lexer": "ipython3",
   "version": "3.10.8"
  }
 },
 "nbformat": 4,
 "nbformat_minor": 5
}
